{
  "metadata": {
    "language_info": {
      "codemirror_mode": {
        "name": "python",
        "version": 3
      },
      "file_extension": ".py",
      "mimetype": "text/x-python",
      "name": "python",
      "nbconvert_exporter": "python",
      "pygments_lexer": "ipython3",
      "version": "3.8"
    },
    "kernelspec": {
      "name": "python",
      "display_name": "Python (Pyodide)",
      "language": "python"
    },
    "colab": {
      "provenance": [],
      "include_colab_link": true
    }
  },
  "nbformat_minor": 0,
  "nbformat": 4,
  "cells": [
    {
      "cell_type": "markdown",
      "metadata": {
        "id": "view-in-github",
        "colab_type": "text"
      },
      "source": [
        "<a href=\"https://colab.research.google.com/github/staaason/Labs_crypto/blob/main/%5Clab1%5CLab1.ipynb\" target=\"_parent\"><img src=\"https://colab.research.google.com/assets/colab-badge.svg\" alt=\"Open In Colab\"/></a>"
      ]
    },
    {
      "cell_type": "code",
      "source": [
        "import sys\n",
        "import statistics\n",
        "import string\n",
        "import matplotlib.pyplot as plt\n",
        "import random\n",
        "import re\n",
        "from collections import Counter\n",
        "import statistics"
      ],
      "metadata": {
        "trusted": true,
        "id": "JgJY8-WDjkNv"
      },
      "execution_count": 3,
      "outputs": []
    },
    {
      "cell_type": "markdown",
      "source": [
        "**Завдання 1.** Побудуйте гiстограму частот появи лiтер в текстi."
      ],
      "metadata": {
        "id": "vs8hPey3jkNx"
      }
    },
    {
      "cell_type": "code",
      "source": [
        "def count_letters(files):\n",
        "  frequency = {}\n",
        "  for file_path in files:\n",
        "    with open(file_path, 'r', encoding='utf-8') as file:\n",
        "      content = file.read()\n",
        "      letters = re.sub(r'[^А-ЩЬЮЯЄІЇҐ]','',content.upper())\n",
        "      total_letters = len(letters)\n",
        "    for letter in letters:\n",
        "      if letter in frequency:\n",
        "        frequency[letter] += 1\n",
        "      else:\n",
        "        frequency[letter] = 1\n",
        "    for letter in frequency:\n",
        "      frequency[letter] /= total_letters\n",
        "  print(frequency.items())\n",
        "  return sorted(frequency.items(), key=lambda x: x[1], reverse=True)\n",
        "print()\n",
        "files_path = ['book1.txt', 'book2.txt', 'book3.txt', 'book4.txt']\n",
        "frequency = count_letters(files_path)\n",
        "plt.bar([x[0] for x in frequency], [x[1] for x in frequency])\n",
        "plt.show()"
      ],
      "metadata": {
        "trusted": true,
        "id": "VCv5e3KljkNy",
        "outputId": "d23430bc-bb00-4cd9-b093-94ec10c39767",
        "colab": {
          "base_uri": "https://localhost:8080/",
          "height": 485
        }
      },
      "execution_count": 4,
      "outputs": [
        {
          "output_type": "stream",
          "name": "stdout",
          "text": [
            "\n",
            "dict_items([('І', 0.057509952617025295), ('Н', 0.0702258068717262), ('С', 0.04151097007043946), ('П', 0.02973277853396025), ('Е', 0.05189157516158835), ('К', 0.03406823013790528), ('Т', 0.04949389429417455), ('О', 0.09801955450529234), ('Р', 0.045400511800160526), ('Ч', 0.013951652502452411), ('Я', 0.02296907238193993), ('Щ', 0.006033696299094225), ('В', 0.05836609541244837), ('А', 0.08253145674340637), ('М', 0.033199349833920096), ('Х', 0.009883748000912318), ('Ь', 0.013365608957461283), ('Ж', 0.00755741081358867), ('Ф', 0.0027569502541220756), ('Г', 0.01589578619972634), ('З', 0.02314488723103664), ('Ш', 0.008655604989473632), ('У', 0.0342096434849667), ('Ц', 0.00820205692977556), ('Л', 0.0399579564520175), ('И', 0.05950887610582537), ('Й', 0.012506927406969709), ('Д', 0.033610853267612276), ('Ю', 0.008570245175135134), ('Б', 0.015119920371260353), ('Є', 0.00450488762240974), ('Ї', 0.00565913902722487), ('Ґ', 0.0019861745542300658)])\n"
          ]
        },
        {
          "output_type": "display_data",
          "data": {
            "text/plain": [
              "<Figure size 640x480 with 1 Axes>"
            ],
            "image/png": "[encoded data removed]"
          },
          "metadata": {}
        }
      ]
    },
    {
      "cell_type": "markdown",
      "source": [
        "Відповідно до цієї діаграми, що взята з habr  видно, що діаграми майже ідентичні, якщо взяти більше даних\n"
      ],
      "metadata": {
        "id": "wwVfkVWkjkNz"
      }
    },
    {
      "cell_type": "markdown",
      "source": [
        "**Завдання 2.** Реалiзуйте алгоритм шифрування Вiженера."
      ],
      "metadata": {
        "id": "66s7DLFYjkN0"
      }
    },
    {
      "cell_type": "code",
      "source": [
        "\n",
        "def vigenere_encrypt(plaintext, key):\n",
        "    if(plaintext.isalpha):\n",
        "        alphabet = 'абвгґдеєжзиіїйклмнопрстуфхцчшщьюя'.upper()\n",
        "        key = key.upper()\n",
        "    else:\n",
        "        alphabet = 'абвгґдеєжзиіїйклмнопрстуфхцчшщьюя'.lower()\n",
        "        key = key.lower()\n",
        "    \n",
        "    n = len(alphabet)\n",
        "    k = len(key)\n",
        "    ciphertext = ''\n",
        "    for i in range(len(plaintext)):\n",
        "        pi = alphabet.find(plaintext[i])\n",
        "        ki = alphabet.find(key[i % k])\n",
        "        ci = (pi + ki) % n\n",
        "        ciphertext += alphabet[ci]\n",
        "    return ciphertext\n",
        "\n",
        "\n",
        "def vigenere_decrypt(ciphertext, key):\n",
        "    alphabet = 'абвгґдеєжзиіїйклмнопрстуфхцчшщьюя'\n",
        "    if ciphertext.isalpha():\n",
        "        ciphertext = ciphertext.lower()\n",
        "        key = key.lower()\n",
        "        alphabet = alphabet.lower()\n",
        "    elif not set(ciphertext).issubset(set(alphabet)):\n",
        "        print(set(ciphertext))\n",
        "        print(set(alphabet))\n",
        "        raise ValueError(\"Ciphertext contains characters not in the alphabet\")\n",
        "\n",
        "    key_len = len(key)\n",
        "    new_key = (key * (len(ciphertext) // key_len + 1))[:len(ciphertext)]\n",
        "    plaintext = ''\n",
        "    for i in range(len(ciphertext)):\n",
        "        k = alphabet.index(new_key[i])\n",
        "        c = alphabet.index(ciphertext[i])\n",
        "        p = (c - k) % len(alphabet)\n",
        "        plaintext += alphabet[p]\n",
        "    return plaintext\n",
        "\n",
        "\n",
        "def remove_punctuation(text):\n",
        "    translator = str.maketrans('', '', string.punctuation + '0123456789')\n",
        "    text = text.translate(translator)\n",
        "    text = text.replace(' ', '')\n",
        "    return ''.join(ch for ch in text if ch.isalnum()).lower()\n",
        "\n",
        "\n",
        "plain_text = \"СЛАВАУКРАЇНІ\"\n",
        "fixed_text = remove_punctuation(plain_text)\n",
        "plaintext = re.sub(r'[^А-ЩЬЮЯЄІЇҐ]', '', fixed_text.upper(), flags=re.U)\n",
        "key = \"веснакрасналюбить\".upper()\n",
        "cipher_text = vigenere_encrypt(plaintext, key)\n",
        "print(cipher_text)\n",
        "decrypted_text = vigenere_decrypt(cipher_text, key).upper()\n",
        "print(decrypted_text)\n",
        "print(fixed_text.upper() == decrypted_text)\n",
        "\n",
        "with open('book2.txt', 'r', encoding='utf-8') as file:\n",
        "    plain_text = file.read(1000)\n",
        "    letters = re.sub(r'[^А-ЩЬЮЯЄІЇҐ]','',plain_text.upper())\n",
        "plaintext = re.sub(r'[^А-ЩЬЮЯЄІЇҐ]', '', plain_text.upper(), flags=re.U)\n",
        "cipher_text = vigenere_encrypt(plaintext, key)\n",
        "\n",
        "\n"
      ],
      "metadata": {
        "trusted": true,
        "id": "i2gvUQkjjkN0",
        "outputId": "12b09627-500f-49db-940c-67acaa66ea2f",
        "colab": {
          "base_uri": "https://localhost:8080/"
        }
      },
      "execution_count": 5,
      "outputs": [
        {
          "output_type": "stream",
          "name": "stdout",
          "text": [
            "УССПАҐБРСЩНЦ\n",
            "СЛАВАУКРАЇНІ\n",
            "True\n"
          ]
        }
      ]
    },
    {
      "cell_type": "markdown",
      "source": [
        "**Завдання 3** Проведiть криптоаналiз шифру Вiженера i розшифруйте запропонований крипто-\n",
        "текст, не знаючи секретного ключа\n",
        "\n",
        "Для виконання завдання нам потрібно використати index of coincidence , щоб перевірити на схожість тексту.    ![index_c.jpg](data:image/jpeg;base64,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), де N — це довжина тексту, а від n_1 до n_c — частоти (як цілі числа) c літер алфавіту (у нашому випадку 33 з букви з українського алфавіту). Далі потрібно порахувати потенційні можливі довжини ключа за допомогою IOC. Визначивши можливі довжини ключа(періода) потрібно зламати тепер відповідну кількість до періода шифрів Цезаря. Для цього потрібно використати статистику хі-квадрат, яка порівняє розподіл частот  послідовностей з очікуваним розподілом частот з українського алфавіту.\n",
        "![image.png](data:image/png;base64,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)\n",
        "\n",
        "Це дозволяє порівняти кількість літер у кожному розшифруванні з тим, що ми могли б очікувати, якби текст був українським. Обчисливши статистику хі-квадрат для зашифрованого тексту, що дає можливість побачити частоту зустрічі букв.Цю прогонку треба виконати для інших літер, а потім додати 33 результатів(кількість букв в алфавіті), які отримали. В результаті ми отримаємо значення статистики. Щоб знайти правильний ключ, ми повинні зробити це для кожного можливого ключа. Але найнижче значення статистики може не відповідати правильності розшифрованого повідомлення."
      ],
      "metadata": {
        "id": "6-Y5vS6CjkN1"
      }
    },
    {
      "cell_type": "code",
      "source": [
        "'''\n",
        "This function takes in a string of text and calculates its Index of Coincidence (IOC), \n",
        "which is a measure of how similar the frequencies of letters \n",
        "in the text are to the frequencies of letters in a typical language.\n",
        "'''\n",
        "def index_of_coincidence(text):\n",
        "    n = len(text)\n",
        "    frequencies = Counter(text)\n",
        "    return sum([i*(i-1) for i in list(frequencies.values())])/(n*(n-1))\n",
        "\n",
        "'''\n",
        " This function takes in a string of text and an integer n, and returns a list \n",
        " of substrings of the text, where each substring consists of every nth character \n",
        " starting from the first, second, ..., nth character, respectively. \n",
        "'''\n",
        "def get_substrings_by_stride(string, n):\n",
        "    new = [''] * n\n",
        "    for i, char in enumerate(string):\n",
        "        new[i % n] += char\n",
        "    return [s.strip() for s in new]\n",
        "\n",
        "\n",
        "\n",
        "'''\n",
        "  The function works by iterating over all potential key lengths \n",
        "  in the range [min_length, max_length],\n",
        "  getting the substrings for each key length, and then computing \n",
        "  the average IOC for those substrings. The resulting dictionary maps each \n",
        "  potential key length to its average IOC value.\n",
        "'''\n",
        "def get_potential_key_lengths(text, min_length=5, max_length=20):\n",
        "    ioc_dict = {}\n",
        "    for stride in range(min_length, max_length+1):\n",
        "        substrings = get_substrings_by_stride(text, stride)\n",
        "        ioc = sum([index_of_coincidence(s) for s in substrings])/stride\n",
        "        ioc_dict[stride] = ioc\n",
        "    return ioc_dict\n",
        "ioc_dict = get_potential_key_lengths(cipher_text)\n",
        "plt.bar(ioc_dict.keys(), ioc_dict.values())\n",
        "plt.xlabel('Key Length')\n",
        "plt.ylabel('Avarage Index of Coincidence')\n",
        "plt.title('Avarage Index of Coincidence vs. Key Length')\n",
        "plt.show()\n",
        "top_lengths_iocs = {k: v for k, v in sorted(ioc_dict.items(), key=lambda x: x[1], reverse=True)[:5]}\n",
        "print(top_lengths_iocs)"
      ],
      "metadata": {
        "colab": {
          "base_uri": "https://localhost:8080/",
          "height": 489
        },
        "id": "AvjZOQgu6NOh",
        "outputId": "eed44572-fadc-4bbb-d060-dd8f6112c986"
      },
      "execution_count": 6,
      "outputs": [
        {
          "output_type": "display_data",
          "data": {
            "text/plain": [
              "<Figure size 640x480 with 1 Axes>"
            ],
            "image/png": "[encoded data removed]"
          },
          "metadata": {}
        },
        {
          "output_type": "stream",
          "name": "stdout",
          "text": [
            "{17: 0.05666503419128984, 18: 0.033155847884530056, 13: 0.032799088801204086, 11: 0.03265873085475632, 19: 0.03262125819369751}\n"
          ]
        }
      ]
    },
    {
      "cell_type": "code",
      "source": [
        "freq_dict = {char: freq for char, freq in frequency}\n",
        "alphabet = 'АБВГҐДЕЄЖЗИІЇЙКЛМНОПРСТУФХЦЧШЩЬЮЯ'\n",
        "\n",
        "'''\n",
        "  Calculates the chi-squared statistic for the text with respect \n",
        "  to those expected frequencies\n",
        "'''\n",
        "def chi_square(text, freq_dict):\n",
        "    text = ''.join(filter(str.isalpha, text)).upper()\n",
        "    frequencies = {c: 0 for c in 'АБВГҐДЕЄЖЗИІЇЙКЛМНОПРСТУФХЦЧШЩЬЮЯ'}\n",
        "    for c in text:\n",
        "        frequencies[c] += 1\n",
        "    n = len(text)\n",
        "    expected_frequencies = {c: n*f for c, f in freq_dict.items()}\n",
        "    chi_square = sum([(frequencies[c] - expected_frequencies[c])**2 / expected_frequencies[c] \n",
        "                      for c in 'АБВГҐДЕЄЖЗИІЇЙКЛМНОПРСТУФХЦЧШЩЬЮЯ'])\n",
        "    return chi_square\n",
        "\n",
        "'''\n",
        " Decodes the sequence using a Caesar cipher with shift n.\n",
        "'''\n",
        "def caesar_decode(n, seq):\n",
        "    alphabet_dict = {letter: index for index, letter in enumerate(alphabet)}\n",
        "    alphabet_reverse_dict = {index: letter for index, letter in enumerate(alphabet)}\n",
        "    res = \"\"\n",
        "    for i in seq:\n",
        "        index = (alphabet_dict.get(i) - n) % 33\n",
        "        res += alphabet_reverse_dict.get(index)\n",
        "    return res\n",
        "\n",
        "'''\n",
        "  Function attempts to crack the Vigenere cipher\n",
        "'''\n",
        "def hack_vigenere(cipher, expected_frequencies, alphabet):\n",
        "    restored_keys = []\n",
        "    print(\"key\\trestored key\\t\\t\\tchi-sq\")\n",
        "    print(\"-\" * 48)\n",
        "    reverse_dict = {index: letter for index, letter in enumerate(alphabet)}\n",
        "    for key, value in top_lengths_iocs.items():\n",
        "        chi_squares = []\n",
        "        array = get_substrings_by_stride(cipher, int(key))\n",
        "        restored_key = \"\"\n",
        "        for sequence in array:\n",
        "            chis = {}\n",
        "            for i in range(len(alphabet)):\n",
        "                temp = caesar_decode(i, sequence)\n",
        "                chis.update({chi_square(temp, expected_frequencies):i})\n",
        "            restored_key += reverse_dict.get(chis.get(min(chis.keys())))\n",
        "            chi_squares.append(min(chis.keys()))\n",
        "        mean_chi = statistics.mean(chi_squares)\n",
        "        restored_keys.append(restored_key)\n",
        "        print(f\"{len(restored_key)}\\t{restored_key}\\t{mean_chi:.3f}\")\n",
        "    return restored_keys\n",
        "\n",
        "restored_keys = hack_vigenere(cipher_text, freq_dict, alphabet)\n",
        "print(\"\\n\\n\")\n",
        "print(\"key\\tdecrypted sequence\\t\\t\\t\")\n",
        "print(\"-\" * 60)\n",
        "\n",
        "for keys in restored_keys:\n",
        "  decrypted_text = vigenere_decrypt(cipher_text, keys).upper()\n",
        "  print(f\"{len(keys)}\\t{decrypted_text[:50]}\\t\")"
      ],
      "metadata": {
        "colab": {
          "base_uri": "https://localhost:8080/"
        },
        "id": "zT0zwGWoP1Cf",
        "outputId": "b1fccf02-52ba-4d8b-d712-41fa0cabb915"
      },
      "execution_count": 7,
      "outputs": [
        {
          "output_type": "stream",
          "name": "stdout",
          "text": [
            "key\trestored key\t\t\tchi-sq\n",
            "------------------------------------------------\n",
            "17\tВЕСНАКРАСНАЛЮБИТЬ\t31.859\n",
            "18\tОАЯАХАКПЩБОИЕЮБЬНН\t63.116\n",
            "13\tБЛЯЖЯВБААЗЕАА\t78.113\n",
            "11\tДЕАААЯСТНБА\t81.134\n",
            "19\tЕТЙОКТААЩАНШАЕКННЇП\t63.729\n",
            "\n",
            "\n",
            "\n",
            "key\tdecrypted sequence\t\t\t\n",
            "------------------------------------------------------------\n",
            "17\tКРИВАВАОСІНЬУМІСТІЛЕВАШЕВЧЕНКОНАТАЛКАПРОЛОГВІТЕРБУ\t\n",
            "18\tЮЦЯПЖМЕЯЙЧЯВЛПРЙВЩГЧРАНЦСЩЧМІЕЇЇИААГГГСЯИОИАЛГПІДК\t\n",
            "13\tЛІЯІБКПОЗПІЇСМЕІІКПЦПААРВЛТВЬЖПЖИЬНІЛГРЮРПМРЗГҐСВЕ\t\n",
            "11\tІРЮПАНЯЩХЧНЄЛНСИРХЯИОАҐРВЛУОЖЧБЗІХІРСГСІЙБУПЕЮҐСІЙ\t\n",
            "19\tИҐОБПЧРОЙШАНСІЄЦВБВСЬРФЇЙЛУСЩЯУИДМАГЗНКИТАИЬІҐЖСЧН\t\n"
          ]
        }
      ]
    },
    {
      "cell_type": "code",
      "source": [],
      "metadata": {
        "id": "CtDV3skamYOj"
      },
      "execution_count": 7,
      "outputs": []
    }
  ]
}