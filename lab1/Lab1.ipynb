{
  "metadata": {
    "language_info": {
      "codemirror_mode": {
        "name": "python",
        "version": 3
      },
      "file_extension": ".py",
      "mimetype": "text/x-python",
      "name": "python",
      "nbconvert_exporter": "python",
      "pygments_lexer": "ipython3",
      "version": "3.8"
    },
    "kernelspec": {
      "name": "python",
      "display_name": "Python (Pyodide)",
      "language": "python"
    },
    "colab": {
      "provenance": [],
      "include_colab_link": true
    }
  },
  "nbformat_minor": 0,
  "nbformat": 4,
  "cells": [
    {
      "cell_type": "markdown",
      "metadata": {
        "id": "view-in-github",
        "colab_type": "text"
      },
      "source": [
        "<a href=\"https://colab.research.google.com/github/staaason/Labs_crypto/blob/main/lab1/Lab1.ipynb\" target=\"_parent\"><img src=\"https://colab.research.google.com/assets/colab-badge.svg\" alt=\"Open In Colab\"/></a>"
      ]
    },
    {
      "cell_type": "code",
      "source": [
        "import sys\n",
        "\n",
        "import string\n",
        "import matplotlib.pyplot as plt\n",
        "import random\n",
        "import re\n",
        "from itertools import permutations\n",
        "from math import log10"
      ],
      "metadata": {
        "trusted": true,
        "id": "JgJY8-WDjkNv"
      },
      "execution_count": null,
      "outputs": []
    },
    {
      "cell_type": "markdown",
      "source": [
        "**Завдання 1.** Побудуйте гiстограму частот появи лiтер в текстi."
      ],
      "metadata": {
        "id": "vs8hPey3jkNx"
      }
    },
    {
      "cell_type": "code",
      "source": [
        "def count_letters(files):\n",
        "    frequency = {}\n",
        "    for file_path in files:\n",
        "        with open(file_path, 'r', encoding='utf-8') as file:\n",
        "            content = file.read()\n",
        "        letters = re.sub(r'[^А-ЩЬЮЯЄІЇҐ]','',content.upper())\n",
        "        total_letters = len(letters)\n",
        "        for letter in letters:\n",
        "            if letter in frequency:\n",
        "                frequency[letter] += 1\n",
        "            else:\n",
        "                frequency[letter] = 1\n",
        "        for letter in frequency:\n",
        "            frequency[letter] /= total_letters\n",
        "    return sorted(frequency.items(), key=lambda x: x[1], reverse=True)\n",
        "files_path = ['book1.txt', 'book2.txt', 'book3.txt', 'book4.txt']\n",
        "frequency = count_letters(files_path)\n",
        "\n",
        "plt.bar([x[0] for x in frequency], [x[1] for x in frequency])\n",
        "plt.show()"
      ],
      "metadata": {
        "trusted": true,
        "id": "VCv5e3KljkNy",
        "outputId": "678a9845-cd09-49fe-918f-d8ae550cc49f",
        "colab": {
          "base_uri": "https://localhost:8080/",
          "height": 265
        }
      },
      "execution_count": null,
      "outputs": [
        {
          "output_type": "display_data",
          "data": {
            "text/plain": [
              "<Figure size 432x288 with 1 Axes>"
            ],
            "image/png": "[encoded data removed]"
          },
          "metadata": {
            "needs_background": "light"
          }
        }
      ]
    },
    {
      "cell_type": "markdown",
      "source": [
        "Відповідно до цієї діаграми, що взята з habr  видно, що діаграми майже ідентичні, якщо взяти більше даних\n"
      ],
      "metadata": {
        "id": "wwVfkVWkjkNz"
      }
    },
    {
      "cell_type": "markdown",
      "source": [
        "**Завдання 2.** Реалiзуйте алгоритм шифрування Вiженера."
      ],
      "metadata": {
        "id": "66s7DLFYjkN0"
      }
    },
    {
      "cell_type": "code",
      "source": [
        "\n",
        "def vigenere_encrypt(plaintext, key):\n",
        "    if(plaintext.isalpha):\n",
        "        alphabet = 'абвгґдеєжзиіїйклмнопрстуфхцчшщьюя'.upper()\n",
        "        key = key.upper()\n",
        "    else:\n",
        "        alphabet = 'абвгґдеєжзиіїйклмнопрстуфхцчшщьюя'.lower()\n",
        "        key = key.lower()\n",
        "      \n",
        "    n = len(alphabet)\n",
        "    k = len(key)\n",
        "    ciphertext = ''\n",
        "    for i in range(len(plaintext)):\n",
        "        pi = alphabet.find(plaintext[i])\n",
        "        ki = alphabet.find(key[i % k])\n",
        "        ci = (pi + ki) % n\n",
        "        ciphertext += alphabet[ci]\n",
        "    return ciphertext\n",
        "\n",
        "\n",
        "def vigenere_decrypt(ciphertext, key):\n",
        "  if(ciphertext.isalpha):\n",
        "      alphabet = 'абвгґдеєжзиіїйклмнопрстуфхцчшщьюя'.upper()\n",
        "      key = key.upper()\n",
        "  else:\n",
        "      ciphertext = 'абвгґдеєжзиіїйклмнопрстуфхцчшщьюя'.lower()\n",
        "      key = key.lower()\n",
        "  key_len = len(key)\n",
        "  new_key = (key * (len(ciphertext) // key_len + 1))[:len(ciphertext)]\n",
        "  plaintext = ''\n",
        "  for i in range(len(ciphertext)):\n",
        "      k = alphabet.index(new_key[i])\n",
        "      c = alphabet.index(ciphertext[i])\n",
        "      p = (c - k) % len(alphabet)\n",
        "      plaintext += alphabet[p]\n",
        "  return plaintext\n",
        "\n",
        "\n",
        "def remove_punctuation(text):\n",
        "    translator = str.maketrans('', '', string.punctuation + '0123456789')\n",
        "    text = text.translate(translator)\n",
        "    text = text.replace(' ', '')\n",
        "    return ''.join(ch for ch in text if ch.isalnum()).lower()\n",
        "\n",
        "\n",
        "plain_text = \"ДОБРОГОВЕЧОРАМИЗУКРАЇНИ\"\n",
        "fixed_text = remove_punctuation(plain_text)\n",
        "plaintext = re.sub(r'[^А-ЩЬЮЯЄІЇҐ]', '', fixed_text.upper(), flags=re.U)\n",
        "key = \"ЛЮБЛЮТЕБЕ\".upper()\n",
        "cipher_text = vigenere_encrypt(plaintext, key)\n",
        "print(cipher_text)\n",
        "decrypted_text = vigenere_decrypt(cipher_text, key)\n",
        "print(decrypted_text)\n",
        "print(fixed_text.upper() == decrypted_text)"
      ],
      "metadata": {
        "trusted": true,
        "id": "i2gvUQkjjkN0",
        "outputId": "1f2ea5c5-5e2a-4aa0-ece8-8cd1d21cb6d7",
        "colab": {
          "base_uri": "https://localhost:8080/"
        }
      },
      "execution_count": null,
      "outputs": [
        {
          "output_type": "stream",
          "name": "stdout",
          "text": [
            "РМВВМХФГЇЗМСЛКЯЛФРВЮЙЯЖ\n",
            "ДОБРОГОВЕЧОРАМИЗУКРАЇНИ\n",
            "True\n"
          ]
        }
      ]
    },
    {
      "cell_type": "markdown",
      "source": [
        "**Завдання 3** Проведiть криптоаналiз шифру Вiженера i розшифруйте запропонований крипто-\n",
        "текст, не знаючи секретного ключа  \n",
        "\n",
        "Реалізацію була взята з [Cryptanalysis of the Vigenere Cipher](http://practicalcryptography.com/cryptanalysis/stochastic-searching/cryptanalysis-vigenere-cipher-part-2/)  \n",
        "Дані триграм, квадраграм було отримано шляхом читання та підрахунку з файлом з данними на 14 гб [CC-100: Monolingual Datasets from Web Crawl Data](https://data.statmt.org/cc-100/), але я брав тільки 2 гб з файлу, бо читання цілого файлу займало 3 години  \n"
      ],
      "metadata": {
        "id": "6-Y5vS6CjkN1"
      }
    },
    {
      "cell_type": "code",
      "source": [
        "class ngram_score(object):\n",
        "    \n",
        "    def __init__(self, ngramfile, sep=' '):\n",
        "        \n",
        "        self.ngrams = {}\n",
        "        with open(ngramfile, 'r', encoding='utf-8') as file:\n",
        "            for line in file:\n",
        "                line = line.replace(\"\\t\", \" \")\n",
        "                values = line.split(sep)\n",
        "                key, count = values[0], values[1]\n",
        "                self.ngrams[key] = int(count)\n",
        "        self.L = len(key)\n",
        "        self.N = sum(self.ngrams.values())\n",
        "        for key in self.ngrams.keys():\n",
        "            self.ngrams[key] = log10(float(self.ngrams[key]) / self.N)\n",
        "        self.floor = log10(0.01 / self.N)\n",
        "\n",
        "    def score(self,text):\n",
        "        score = 0\n",
        "        ngrams = self.ngrams.__getitem__\n",
        "        for i in range(len(text)-self.L+1):\n",
        "            if text[i:i+self.L] in self.ngrams: score += ngrams(text[i:i+self.L])\n",
        "            else: score += self.floor          \n",
        "        return score\n",
        "\n",
        "\n",
        "cipher_text = vigenere_encrypt(plaintext, key)\n",
        "qgram = ngram_score('/content/uk_quadragrams.txt')\n",
        "trigram = ngram_score('/content/uk_triagrams.txt')\n",
        "ctext = cipher_text\n",
        "ctext = re.sub(r'[^А-ЩЬЮЯЄІЇҐ]','',ctext.upper())\n",
        "class nbest(object):\n",
        "    def __init__(self,N=1000):\n",
        "        self.store = []\n",
        "        self.N = N\n",
        "        \n",
        "    def add(self,item):\n",
        "        self.store.append(item)\n",
        "        self.store.sort(reverse=True)\n",
        "        self.store = self.store[:self.N]\n",
        "    \n",
        "    def __getitem__(self,k):\n",
        "        return self.store[k]\n",
        "\n",
        "    def __len__(self):\n",
        "        return len(self.store)\n",
        "\n",
        "\n",
        "N=100\n",
        "for KLEN in range(3, 25):\n",
        "    rec = nbest(N)\n",
        "\n",
        "    for i in permutations('АБВГҐДЕЄЖЗИІЇЙКЛМНОПРСТУФХЦЧШЩЬЮЯ',3):\n",
        "        key = ''.join(i) + 'А'*(KLEN-len(i))\n",
        "        pt = vigenere_decrypt(ctext, key)\n",
        "        score = 0\n",
        "        for j in range(0,len(ctext),KLEN):\n",
        "            score += trigram.score(pt[j:j+3])\n",
        "        rec.add((score,''.join(i),pt[:30]))\n",
        "\n",
        "    next_rec = nbest(N)\n",
        "    for i in range(0,KLEN-3):\n",
        "        for k in range(N):\n",
        "            for c in 'АБВГҐДЕЄЖЗИІЇЙКЛМНОПРСТУФХЦЧШЩЬЮЯ':\n",
        "                key = rec[k][1] + c\n",
        "                fullkey = key + 'А'*(KLEN-len(key))\n",
        "                pt = vigenere_decrypt(ctext, fullkey)\n",
        "                score = 0\n",
        "                for j in range(0,len(ctext),KLEN):\n",
        "                    score += qgram.score(pt[j:j+len(key)])\n",
        "                next_rec.add((score,key,pt[:30]))\n",
        "        rec = next_rec\n",
        "        next_rec = nbest(N)\n",
        "    bestkey = rec[0][1]\n",
        "    pt = vigenere_decrypt(ctext, bestkey)\n",
        "    bestscore = qgram.score(pt)\n",
        "    for i in range(N):\n",
        "        pt = vigenere_decrypt(ctext, rec[i][1])\n",
        "        score = qgram.score(pt)\n",
        "        if score > bestscore:\n",
        "            bestkey = rec[i][1]\n",
        "            bestscore = score      \n",
        "            \n",
        "    print('Best score:', bestscore, 'key length', KLEN,':\"'+ bestkey +'\",', vigenere_decrypt(ctext, bestkey))"
      ],
      "metadata": {
        "trusted": true,
        "id": "aX4N5Xs-jkN1",
        "outputId": "0a39be3d-bdab-4571-8ccb-d450e0c75c55",
        "colab": {
          "base_uri": "https://localhost:8080/"
        }
      },
      "execution_count": null,
      "outputs": [
        {
          "output_type": "stream",
          "name": "stdout",
          "text": [
            "Best score: -136.79219872581334 key length 3 :\"ЛЮБ\", ДОБРОФЗДІЧОРАМЮАЦПРАЇНИ\n",
            "Best score: -113.8862651543438 key length 4 :\"ЮЗКС\", ТЄСКОМИЛКАВАНДОЧЦІСИЛУЧ\n",
            "Best score: -128.99679455027183 key length 5 :\"ЮЕЛЇТ\", ТИРУЧЧОСАРОЛАВИНОДУЗЛЦЦ\n",
            "Best score: -117.40596056835929 key length 6 :\"ОЮТСЕА\", ВОЙКИХЕДУСИСЬМИЧОРНАФІВ\n",
            "Best score: -106.94805108860534 key length 7 :\"ЦЯФАИЮЬ\", ЧНІВЕЧЧИЙОМІННЕМАРХАМЕЗ\n",
            "Best score: -104.38513538608942 key length 8 :\"ЬИЙСЯКИЬ\", УЕТКНІКЕЛЯГАМАТОЧИТИКОЮ\n",
            "Best score: -91.44876945403138 key length 9 :\"ЛЮБЛЮТЕКЕ\", ДОБРОГОТЕЧОРАМИЗИКРАЇНИ\n",
            "Best score: -89.4258762513012 key length 10 :\"ГМЬЦИДТГХЗ\", НАДЗЕРВАРАЙДОСТИВНИТИМІ\n",
            "Best score: -81.08699604885759 key length 11 :\"ИЧХКЧДКЛЮФК\", ИТИСТРИСКОВІСТОСПЕРАТОЮ\n",
            "Best score: -79.17717164098605 key length 12 :\"ҐДКЙЕЯЙЩШРМЕ\", МІСТИЦІЄНТАЛІЗОВОСТВОЇХ\n",
            "Best score: -77.63187798826225 key length 13 :\"КЬЛВКЛЗГУХЮАЦ\", ЕПРАВИЛАТНОСТАВАТЕРТИЗМ\n",
            "Best score: -76.56869455092708 key length 14 :\"ИШЙХЩКЩТЧЧПҐЬЦ\", ИСТИРІШКОЛЬНОСТРІШЕННИК\n",
            "Best score: -72.06496416344605 key length 15 :\"ЮЕОВКХЗЕШФЙГАЩЬ\", ТИНАВАЛЬНОГОЛОВНОВАНСУВ\n",
            "Best score: -70.19310820132841 key length 16 :\"ВИСЙЩЛЖГЬЇЯГЧХЇЛ\", ОЕКТРИМАЛЬНОСТРАТИКОННА\n",
            "Best score: -68.69175402154548 key length 17 :\"ЯМЙХКЄГКЇХЮПЛЬКЇЕ\", САТИВОСТАНОВАНОГОСПОСОБ\n",
            "Best score: -67.5632037367456 key length 18 :\"ЛЮБЛЮУФПЧЄДМЩЩЬҐПЕ\", ДОБРОВАНОВІДПОВІДКРАЇНИ\n",
            "Best score: -65.71855847667703 key length 19 :\"ЬВЛВҐЖГЕЮФЙГЙЩЇДГЮВ\", УКРАЇНСЬКОГОВОРИСТАБІНЕ\n",
            "Best score: -63.63107486348893 key length 20 :\"ЮЦАВЯЄТХЄУЮПҐЗЙЬТЗЬЮ\", ТУВАНОВІДПОВІДПОВІДАЛЕЖ\n",
            "Best score: -62.38619187061585 key length 21 :\"ЬВЛВҐЖГЕЮФКИИШКЙЙЛМІГ\", УКРАЇНСЬКОВІДПОВІДПРИВЕ\n",
            "Best score: -60.063051785230385 key length 22 :\"ЬВЛВҐЖГЕЮФКИИШКЙЙЛОЙХИ\", УКРАЇНСЬКОВІДПОВІДНОСТІ\n",
            "Best score: -59.585064345170025 key length 23 :\"БЮАФІЕЕББҐЬГЙГЧЮЕЯЙЮЩЛЗ\", ПОВІДПОВІДПОВІДНОСТАННЯ\n",
            "Best score: -59.585064345170025 key length 24 :\"БЮАФІЕЕББҐЬГЙГЧЮЕЯЙЮЩЛЗҐ\", ПОВІДПОВІДПОВІДНОСТАННЯ\n"
          ]
        }
      ]
    }
  ]
}